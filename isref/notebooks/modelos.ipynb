{
 "cells": [
  {
   "cell_type": "code",
   "execution_count": 1,
   "metadata": {},
   "outputs": [],
   "source": [
    "from pathlib import Path\n",
    "import os\n",
    "\n",
    "import spacy\n",
    "\n",
    "from helpers import MiCorpus\n",
    "import helpers as hp"
   ]
  },
  {
   "cell_type": "code",
   "execution_count": 2,
   "metadata": {},
   "outputs": [],
   "source": [
    "nlp = spacy.load('en_md')"
   ]
  },
  {
   "cell_type": "code",
   "execution_count": 3,
   "metadata": {},
   "outputs": [],
   "source": [
    "dir_docs = '/Users/tombito/Downloads/estabilidad/en/reports/'\n",
    "dir_corpus = os.path.join(dir_docs, 'corpus')\n",
    "\n",
    "dir_models = 'modelos'\n",
    "dir_output = os.path.join(dir_models, Path(dir_docs).name)\n",
    "os.makedirs(dir_output, exist_ok=True)"
   ]
  },
  {
   "cell_type": "code",
   "execution_count": 4,
   "metadata": {},
   "outputs": [],
   "source": [
    "pathstops = '/Users/tombito/Dropbox/datasets/wordlists/stopwords/stopwords.xlsx'\n",
    "stops = hp.load_stopwords(pathstops, 'english', col='word')\n",
    "tags = ['NOUN', 'VERB', 'ADJ', 'ADV', 'ADP','AUX', 'DET', 'PRON']\n",
    "ents = ['PER', 'ORG']\n",
    "\n",
    "extra = dict(stopwords=stops, postags=tags, entities=ents, ) \n",
    "# opcional stemmer=SnowballStemmer('spanish')\n",
    "# habiendo importado from nltk.stem import SnowballStemmer"
   ]
  },
  {
   "cell_type": "code",
   "execution_count": 5,
   "metadata": {},
   "outputs": [],
   "source": [
    "corpus = MiCorpus(dir_corpus, nlp, extra)\n",
    "corpus.diccionario.save(os.path.join(dir_output, 'diccionario.dict'))\n",
    "\n",
    "ngramas = corpus.ngramas\n",
    "bigramas = ngramas['bigramas']\n",
    "bigramas.save(os.path.join(dir_output, 'bigramas'))\n",
    "trigramas = ngramas['trigramas']\n",
    "trigramas.save(os.path.join(dir_output, 'trigramas'))"
   ]
  }
 ],
 "metadata": {
  "kernelspec": {
   "display_name": "Python 3",
   "language": "python",
   "name": "python3"
  },
  "language_info": {
   "codemirror_mode": {
    "name": "ipython",
    "version": 3
   },
   "file_extension": ".py",
   "mimetype": "text/x-python",
   "name": "python",
   "nbconvert_exporter": "python",
   "pygments_lexer": "ipython3",
   "version": "3.6.6"
  }
 },
 "nbformat": 4,
 "nbformat_minor": 2
}
